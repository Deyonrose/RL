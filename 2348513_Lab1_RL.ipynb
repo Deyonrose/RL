{
  "nbformat": 4,
  "nbformat_minor": 0,
  "metadata": {
    "colab": {
      "provenance": [],
      "include_colab_link": true
    },
    "kernelspec": {
      "name": "python3",
      "display_name": "Python 3"
    },
    "language_info": {
      "name": "python"
    }
  },
  "cells": [
    {
      "cell_type": "markdown",
      "metadata": {
        "id": "view-in-github",
        "colab_type": "text"
      },
      "source": [
        "<a href=\"https://colab.research.google.com/github/Deyonrose/RL/blob/main/2348513_Lab1_RL.ipynb\" target=\"_parent\"><img src=\"https://colab.research.google.com/assets/colab-badge.svg\" alt=\"Open In Colab\"/></a>"
      ]
    },
    {
      "cell_type": "code",
      "execution_count": null,
      "metadata": {
        "colab": {
          "base_uri": "https://localhost:8080/"
        },
        "id": "MLZ-inDJN_QZ",
        "outputId": "a8995e9e-2ce8-4de3-e570-fc33af5010b5"
      },
      "outputs": [
        {
          "output_type": "stream",
          "name": "stdout",
          "text": [
            "Impressions: 100, Total Clicks: 2\n",
            "Impressions: 200, Total Clicks: 14\n",
            "Impressions: 300, Total Clicks: 19\n",
            "Impressions: 400, Total Clicks: 27\n",
            "Impressions: 500, Total Clicks: 30\n",
            "Impressions: 600, Total Clicks: 38\n",
            "Impressions: 700, Total Clicks: 44\n",
            "Impressions: 800, Total Clicks: 52\n",
            "Impressions: 900, Total Clicks: 56\n",
            "Impressions: 1000, Total Clicks: 59\n",
            "\n",
            "Simulation complete.\n",
            "Total Clicks after 1000 impressions: 59\n",
            "Ad Slot: Top Banner, Clicks: 5.0, Estimated CTR: 0.0370, True CTR: 0.0300\n",
            "Ad Slot: Sidebar, Clicks: 1.0, Estimated CTR: 0.0417, True CTR: 0.0500\n",
            "Ad Slot: Footer, Clicks: 0.0, Estimated CTR: 0.0000, True CTR: 0.0200\n",
            "Ad Slot: Pop-up, Clicks: 53.0, Estimated CTR: 0.0648, True CTR: 0.0700\n"
          ]
        }
      ],
      "source": [
        "import numpy as np\n",
        "import random\n",
        "\n",
        "class EpsilonGreedyBandit:\n",
        "    def __init__(self, n_arms, epsilon=0.1):\n",
        "        self.n_arms = n_arms  # Number of ad slots (arms)\n",
        "        self.epsilon = epsilon  # Probability of exploration\n",
        "        self.counts = np.zeros(n_arms)  # Counts of times each slot has been selected\n",
        "        self.values = np.zeros(n_arms)  # Estimated CTR for each slot\n",
        "\n",
        "    def select_arm(self):\n",
        "        \"\"\"Select the next ad slot (arm) based on epsilon-greedy strategy.\"\"\"\n",
        "        if random.random() > self.epsilon:\n",
        "            #  select the arm with the highest estimated CTR\n",
        "            return np.argmax(self.values)\n",
        "        else:\n",
        "            # randomly select an arm\n",
        "            return np.random.randint(0, self.n_arms)\n",
        "\n",
        "    def update(self, chosen_arm, reward):\n",
        "        \"\"\"Update the chosen ad slot's estimated CTR based on the observed reward.\"\"\"\n",
        "        self.counts[chosen_arm] += 1\n",
        "        n = self.counts[chosen_arm]\n",
        "        value = self.values[chosen_arm]\n",
        "        # Update rule: new value is the incremental average of the observed rewards\n",
        "        new_value = ((n - 1) / n) * value + (1 / n) * reward\n",
        "        self.values[chosen_arm] = new_value\n",
        "\n",
        "def simulate_bandit(bandit, n_impressions, true_ctr):\n",
        "    \"\"\"Simulate the epsilon-greedy multi-armed bandit for a series of ad impressions.\"\"\"\n",
        "    total_rewards = 0\n",
        "    rewards_per_arm = np.zeros(bandit.n_arms)\n",
        "    for i in range(n_impressions):\n",
        "        # Select an ad slot (arm) using epsilon-greedy strategy\n",
        "        chosen_arm = bandit.select_arm()\n",
        "\n",
        "        # Simulate showing the ad in that slot and getting a click or not\n",
        "        reward = np.random.binomial(1, true_ctr[chosen_arm])  # Simulate a click (1) or no-click (0)\n",
        "\n",
        "        # Update the bandit's estimated CTR based on the reward\n",
        "        bandit.update(chosen_arm, reward)\n",
        "\n",
        "        # Track total rewards (total clicks)\n",
        "        total_rewards += reward\n",
        "        rewards_per_arm[chosen_arm] += reward\n",
        "\n",
        "        # Print intermediate progress (for demonstration purposes)\n",
        "        if (i + 1) % 100 == 0:\n",
        "            print(f\"Impressions: {i+1}, Total Clicks: {total_rewards}\")\n",
        "\n",
        "    return total_rewards, rewards_per_arm\n",
        "\n",
        "# Defining ad slots and their true CTRs\n",
        "ad_slots = ['Top Banner', 'Sidebar', 'Footer', 'Pop-up']\n",
        "true_ctr = [0.03, 0.05, 0.02, 0.07]  # True click-through rates (CTR) for each ad slot\n",
        "\n",
        "# Initialize the bandit with 4 arms (ad slots) and epsilon = 0.1 (10% exploration rate)\n",
        "n_arms = len(ad_slots)\n",
        "epsilon = 0.1\n",
        "bandit = EpsilonGreedyBandit(n_arms, epsilon)\n",
        "\n",
        "# Simulate 1000 ad impressions\n",
        "n_impressions = 1000\n",
        "total_clicks, clicks_per_arm = simulate_bandit(bandit, n_impressions, true_ctr)\n",
        "\n",
        "# Display results\n",
        "print(\"\\nSimulation complete.\")\n",
        "print(f\"Total Clicks after {n_impressions} impressions: {total_clicks}\")\n",
        "for i in range(n_arms):\n",
        "    print(f\"Ad Slot: {ad_slots[i]}, Clicks: {clicks_per_arm[i]}, Estimated CTR: {bandit.values[i]:.4f}, True CTR: {true_ctr[i]:.4f}\")\n"
      ]
    },
    {
      "cell_type": "code",
      "source": [],
      "metadata": {
        "id": "nEL8fSUystkr"
      },
      "execution_count": null,
      "outputs": []
    }
  ]
}